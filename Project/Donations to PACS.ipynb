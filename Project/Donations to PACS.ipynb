{
 "cells": [
  {
   "cell_type": "code",
   "execution_count": 28,
   "metadata": {},
   "outputs": [],
   "source": [
    "import pandas as pd\n",
    "import numpy as np\n",
    "import csv\n",
    "import os"
   ]
  },
  {
   "cell_type": "code",
   "execution_count": 29,
   "metadata": {},
   "outputs": [],
   "source": [
    "#individuals = pd.read_csv(\"data/cleaned/individual_donations.csv\")\n",
    "candCommittees = pd.read_csv(\"data/cleaned/cand_committee.csv\")"
   ]
  },
  {
   "cell_type": "code",
   "execution_count": 30,
   "metadata": {},
   "outputs": [],
   "source": [
    "candList = list(candCommittees[\"CMTE_ID\"])\n",
    "committeeDict = {}"
   ]
  },
  {
   "cell_type": "code",
   "execution_count": 31,
   "metadata": {},
   "outputs": [],
   "source": [
    "def pacSummary(filename, dictionary, committeesdf, candCommitteeList):\n",
    "    individuals = pd.read_csv(file)\n",
    "    committees = committeesdf[[\"CMTE_ID\", \"CMTE_NM\", \"CONNECTED_ORG_NM\"]]\n",
    "    pacDonations = individuals.loc[~individuals[\"CMTE_ID\"].isin(candCommitteeList), ]\n",
    "    pacDonations = pd.merge(committees, pacDonations, \"inner\", on = \"CMTE_ID\")\n",
    "    pacDonations = pacDonations.dropna(subset = [\"TRANSACTION_AMT\"])\n",
    "    uniqueCommittees = list(set(pacDonations[\"CMTE_ID\"]))\n",
    "    print(len(uniqueCommittees))\n",
    "    pacDonations = pacDonations[[\"CMTE_ID\", \"CMTE_NM\", \"CONNECTED_ORG_NM\", \"STATE\", \"TRANSACTION_AMT\"]]\n",
    "    for com in uniqueCommittees:\n",
    "        dictNew = dictionary.get(com, {})\n",
    "        committee = committees.loc[committees[\"CMTE_ID\"] == com,]\n",
    "        name = committee.iloc[0, 1]\n",
    "        org = committee.iloc[0, 2]\n",
    "        dictNew[\"name\"] = name\n",
    "        dictNew[\"org\"] = org\n",
    "        transTotal = pacDonations.loc[pacDonations[\"CMTE_ID\"] == com, \"TRANSACTION_AMT\"].sum()\n",
    "        dictNew[\"donations\"] = dictionary.get(com, {}).get(\"donations\", 0) + transTotal\n",
    "        dictionary[com] = dictNew\n",
    "    \n",
    "    "
   ]
  },
  {
   "cell_type": "code",
   "execution_count": 32,
   "metadata": {},
   "outputs": [],
   "source": [
    "committees = pd.read_csv(\"data/cleaned/committees.csv\")\n",
    "files = os.listdir(\"data/cleaned/individuals/\")\n",
    "files = files[1:]\n",
    "for i, file in enumerate(files):\n",
    "    files[i] = \"data/cleaned/individuals/\" + file"
   ]
  },
  {
   "cell_type": "code",
   "execution_count": 33,
   "metadata": {
    "scrolled": true
   },
   "outputs": [
    {
     "name": "stderr",
     "output_type": "stream",
     "text": [
      "/anaconda3/lib/python3.6/site-packages/IPython/core/interactiveshell.py:2903: DtypeWarning: Columns (10,18) have mixed types. Specify dtype option on import or set low_memory=False.\n",
      "  if self.run_code(code, result):\n"
     ]
    },
    {
     "name": "stdout",
     "output_type": "stream",
     "text": [
      "3615\n",
      "3615\n",
      "2784\n",
      "3911\n"
     ]
    },
    {
     "name": "stderr",
     "output_type": "stream",
     "text": [
      "/anaconda3/lib/python3.6/site-packages/IPython/core/interactiveshell.py:2903: DtypeWarning: Columns (10,11,12,18) have mixed types. Specify dtype option on import or set low_memory=False.\n",
      "  if self.run_code(code, result):\n"
     ]
    },
    {
     "name": "stdout",
     "output_type": "stream",
     "text": [
      "3403\n",
      "4277\n",
      "36\n",
      "4296\n"
     ]
    },
    {
     "name": "stderr",
     "output_type": "stream",
     "text": [
      "/anaconda3/lib/python3.6/site-packages/IPython/core/interactiveshell.py:2903: DtypeWarning: Columns (10,16,18) have mixed types. Specify dtype option on import or set low_memory=False.\n",
      "  if self.run_code(code, result):\n"
     ]
    },
    {
     "name": "stdout",
     "output_type": "stream",
     "text": [
      "2862\n",
      "4448\n",
      "3141\n",
      "4635\n",
      "3128\n",
      "4829\n"
     ]
    }
   ],
   "source": [
    "for file in files:\n",
    "    pacSummary(file, committeeDict, committees, candList)\n",
    "    print(len(committeeDict))"
   ]
  },
  {
   "cell_type": "code",
   "execution_count": 34,
   "metadata": {},
   "outputs": [
    {
     "name": "stdout",
     "output_type": "stream",
     "text": [
      "['ID', 'name', 'org', 'donations']\n"
     ]
    }
   ],
   "source": [
    "pacDonations = []\n",
    "header = [\"ID\"]\n",
    "keys = list(committeeDict[\"C00657205\"].keys())\n",
    "header.extend(keys)\n",
    "pacDonations.append(header)\n",
    "print(header)"
   ]
  },
  {
   "cell_type": "code",
   "execution_count": 35,
   "metadata": {},
   "outputs": [],
   "source": [
    "committeeList = list(committeeDict.keys())\n",
    "for id in committeeList:\n",
    "    committee = [id]\n",
    "    comRest = committeeDict[id].values()\n",
    "    committee.extend(comRest)\n",
    "    pacDonations.append(committee)"
   ]
  },
  {
   "cell_type": "code",
   "execution_count": 36,
   "metadata": {},
   "outputs": [],
   "source": [
    "with open(\"data/transformed/PACdonations.csv\", \"w\") as csvout:\n",
    "    csvwriter = csv.writer(csvout, delimiter =\",\")\n",
    "    for x in pacDonations:\n",
    "        csvwriter.writerow(x)\n",
    "    csvout.close()"
   ]
  },
  {
   "cell_type": "code",
   "execution_count": 37,
   "metadata": {},
   "outputs": [
    {
     "data": {
      "text/plain": [
       "['data/cleaned/individuals/individuals_5.csv',\n",
       " 'data/cleaned/individuals/individuals_4.csv',\n",
       " 'data/cleaned/individuals/individuals_6.csv',\n",
       " 'data/cleaned/individuals/individuals_7.csv',\n",
       " 'data/cleaned/individuals/individuals_3.csv',\n",
       " 'data/cleaned/individuals/individuals_2.csv',\n",
       " 'data/cleaned/individuals/individuals_1.csv']"
      ]
     },
     "execution_count": 37,
     "metadata": {},
     "output_type": "execute_result"
    }
   ],
   "source": [
    "files"
   ]
  },
  {
   "cell_type": "code",
   "execution_count": 38,
   "metadata": {},
   "outputs": [
    {
     "name": "stderr",
     "output_type": "stream",
     "text": [
      "/anaconda3/lib/python3.6/site-packages/IPython/core/interactiveshell.py:2785: DtypeWarning: Columns (10,16,18) have mixed types. Specify dtype option on import or set low_memory=False.\n",
      "  interactivity=interactivity, compiler=compiler, result=result)\n"
     ]
    },
    {
     "data": {
      "text/plain": [
       "40959997"
      ]
     },
     "execution_count": 38,
     "metadata": {},
     "output_type": "execute_result"
    }
   ],
   "source": [
    "df = pd.read_csv(\"data/cleaned/individuals/individuals_3.csv\")\n",
    "df.loc[df[\"CMTE_ID\"] == \"C00401224\", \"TRANSACTION_AMT\"].sum()"
   ]
  },
  {
   "cell_type": "code",
   "execution_count": 39,
   "metadata": {},
   "outputs": [
    {
     "data": {
      "text/plain": [
       "0"
      ]
     },
     "execution_count": 39,
     "metadata": {},
     "output_type": "execute_result"
    }
   ],
   "source": [
    "committeeDict.get(\"C00613000\", {}).get(\"value\", 0)"
   ]
  },
  {
   "cell_type": "code",
   "execution_count": null,
   "metadata": {},
   "outputs": [],
   "source": []
  }
 ],
 "metadata": {
  "kernelspec": {
   "display_name": "Python 3",
   "language": "python",
   "name": "python3"
  },
  "language_info": {
   "codemirror_mode": {
    "name": "ipython",
    "version": 3
   },
   "file_extension": ".py",
   "mimetype": "text/x-python",
   "name": "python",
   "nbconvert_exporter": "python",
   "pygments_lexer": "ipython3",
   "version": "3.6.5"
  }
 },
 "nbformat": 4,
 "nbformat_minor": 2
}
